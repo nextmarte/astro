{
 "cells": [
  {
   "cell_type": "code",
   "execution_count": 2,
   "metadata": {},
   "outputs": [],
   "source": [
    "from deltalake import DeltaTable, write_deltalake\n",
    "import duckdb\n",
    "\n",
    "con = duckdb.connect()"
   ]
  },
  {
   "cell_type": "code",
   "execution_count": 3,
   "metadata": {},
   "outputs": [
    {
     "data": {
      "text/plain": [
       "┌─────────────┬─────────────────────┐\n",
       "│ category_id │    category_name    │\n",
       "│    int64    │       varchar       │\n",
       "├─────────────┼─────────────────────┤\n",
       "│           1 │ Children Bicycles   │\n",
       "│           2 │ Comfort Bicycles    │\n",
       "│           3 │ Cruisers Bicycles   │\n",
       "│           4 │ Cyclocross Bicycles │\n",
       "│           5 │ Electric Bikes      │\n",
       "│           6 │ Mountain Bikes      │\n",
       "│           7 │ Road Bikes          │\n",
       "└─────────────┴─────────────────────┘"
      ]
     },
     "execution_count": 3,
     "metadata": {},
     "output_type": "execute_result"
    }
   ],
   "source": [
    "con.sql(\"SELECT * FROM 'categories.csv'\")"
   ]
  },
  {
   "cell_type": "code",
   "execution_count": 4,
   "metadata": {},
   "outputs": [],
   "source": [
    "df = con.sql(\"SELECT * FROM 'categories.csv'\").to_arrow_table()"
   ]
  },
  {
   "cell_type": "code",
   "execution_count": 5,
   "metadata": {},
   "outputs": [],
   "source": [
    "storage_options = {\n",
    "    \"AWS_ACCESS_KEY_ID\": \"E1bb9GmAwnOnxY3YFdfL\",\n",
    "    \"AWS_SECRET_ACCESS_KEY\": \"9wehFY9StKHamvgfnjWLoPphNOTYTnWIjzNkYpTn\",\n",
    "    \"AWS_ENDPOINT_URL\": \"http://localhost:9002\",\n",
    "    \"AWS_allow_http\": \"true\",\n",
    "    \"AWS_REGION\": \"us-east-1\",\n",
    "    \"AWS_S3_ALLOW_UNSAFE_RENAME\": \"true\",\n",
    "}"
   ]
  },
  {
   "cell_type": "code",
   "execution_count": 21,
   "metadata": {},
   "outputs": [
    {
     "data": {
      "text/plain": [
       "┌─────────┐\n",
       "│ Success │\n",
       "│ boolean │\n",
       "├─────────┤\n",
       "│ true    │\n",
       "└─────────┘"
      ]
     },
     "execution_count": 21,
     "metadata": {},
     "output_type": "execute_result"
    }
   ],
   "source": [
    "con.sql(\"\"\" CREATE SECRET secret1 (\n",
    "            TYPE S3,\n",
    "            KEY_ID 'E1bb9GmAwnOnxY3YFdfL',\n",
    "            SECRET '9wehFY9StKHamvgfnjWLoPphNOTYTnWIjzNkYpTn',\n",
    "            REGION 'us-east-1',\n",
    "            ENDPOINT 'localhost:9002',\n",
    "            URL_STYLE 'path',\n",
    "            USE_SSL 'false'\n",
    "\n",
    "        );\n",
    "    \"\"\")"
   ]
  },
  {
   "cell_type": "code",
   "execution_count": 6,
   "metadata": {},
   "outputs": [],
   "source": [
    "uri = \"s3://land/uff/delta/categories\"\n",
    "\n",
    "write_deltalake(uri, df, mode=\"append\", storage_options=storage_options)"
   ]
  },
  {
   "cell_type": "code",
   "execution_count": 7,
   "metadata": {},
   "outputs": [],
   "source": [
    "dt = DeltaTable(uri, storage_options=storage_options)"
   ]
  },
  {
   "cell_type": "code",
   "execution_count": 8,
   "metadata": {},
   "outputs": [
    {
     "data": {
      "text/plain": [
       "category_id: int64\n",
       "category_name: string"
      ]
     },
     "execution_count": 8,
     "metadata": {},
     "output_type": "execute_result"
    }
   ],
   "source": [
    "dt.schema().to_pyarrow()"
   ]
  },
  {
   "cell_type": "code",
   "execution_count": 13,
   "metadata": {},
   "outputs": [
    {
     "data": {
      "text/html": [
       "<div>\n",
       "<style scoped>\n",
       "    .dataframe tbody tr th:only-of-type {\n",
       "        vertical-align: middle;\n",
       "    }\n",
       "\n",
       "    .dataframe tbody tr th {\n",
       "        vertical-align: top;\n",
       "    }\n",
       "\n",
       "    .dataframe thead th {\n",
       "        text-align: right;\n",
       "    }\n",
       "</style>\n",
       "<table border=\"1\" class=\"dataframe\">\n",
       "  <thead>\n",
       "    <tr style=\"text-align: right;\">\n",
       "      <th></th>\n",
       "      <th>category_id</th>\n",
       "      <th>category_name</th>\n",
       "    </tr>\n",
       "  </thead>\n",
       "  <tbody>\n",
       "    <tr>\n",
       "      <th>0</th>\n",
       "      <td>1</td>\n",
       "      <td>Children Bicycles</td>\n",
       "    </tr>\n",
       "    <tr>\n",
       "      <th>1</th>\n",
       "      <td>2</td>\n",
       "      <td>Comfort Bicycles</td>\n",
       "    </tr>\n",
       "    <tr>\n",
       "      <th>2</th>\n",
       "      <td>3</td>\n",
       "      <td>Cruisers Bicycles</td>\n",
       "    </tr>\n",
       "    <tr>\n",
       "      <th>3</th>\n",
       "      <td>4</td>\n",
       "      <td>Cyclocross Bicycles</td>\n",
       "    </tr>\n",
       "    <tr>\n",
       "      <th>4</th>\n",
       "      <td>1</td>\n",
       "      <td>Children Bicycles</td>\n",
       "    </tr>\n",
       "    <tr>\n",
       "      <th>5</th>\n",
       "      <td>2</td>\n",
       "      <td>Comfort Bicycles</td>\n",
       "    </tr>\n",
       "    <tr>\n",
       "      <th>6</th>\n",
       "      <td>3</td>\n",
       "      <td>Cruisers Bicycles</td>\n",
       "    </tr>\n",
       "    <tr>\n",
       "      <th>7</th>\n",
       "      <td>4</td>\n",
       "      <td>Cyclocross Bicycles</td>\n",
       "    </tr>\n",
       "  </tbody>\n",
       "</table>\n",
       "</div>"
      ],
      "text/plain": [
       "   category_id        category_name\n",
       "0            1    Children Bicycles\n",
       "1            2     Comfort Bicycles\n",
       "2            3    Cruisers Bicycles\n",
       "3            4  Cyclocross Bicycles\n",
       "4            1    Children Bicycles\n",
       "5            2     Comfort Bicycles\n",
       "6            3    Cruisers Bicycles\n",
       "7            4  Cyclocross Bicycles"
      ]
     },
     "execution_count": 13,
     "metadata": {},
     "output_type": "execute_result"
    }
   ],
   "source": [
    "dt.to_pandas()"
   ]
  },
  {
   "cell_type": "code",
   "execution_count": 14,
   "metadata": {},
   "outputs": [
    {
     "data": {
      "text/plain": [
       "{'num_added_files': 0,\n",
       " 'num_removed_files': 0,\n",
       " 'num_deleted_rows': 0,\n",
       " 'num_copied_rows': 0,\n",
       " 'execution_time_ms': 1,\n",
       " 'scan_time_ms': 0,\n",
       " 'rewrite_time_ms': 1}"
      ]
     },
     "execution_count": 14,
     "metadata": {},
     "output_type": "execute_result"
    }
   ],
   "source": [
    "dt.delete(\"category_id > 4\")"
   ]
  },
  {
   "cell_type": "code",
   "execution_count": 16,
   "metadata": {},
   "outputs": [],
   "source": [
    "df = con.sql(\"SELECT * FROM 'categories.csv'\").to_arrow_table()"
   ]
  },
  {
   "cell_type": "code",
   "execution_count": 17,
   "metadata": {},
   "outputs": [
    {
     "data": {
      "text/plain": [
       "{'num_source_rows': 7,\n",
       " 'num_target_rows_inserted': 3,\n",
       " 'num_target_rows_updated': 8,\n",
       " 'num_target_rows_deleted': 0,\n",
       " 'num_target_rows_copied': 0,\n",
       " 'num_output_rows': 11,\n",
       " 'num_target_files_scanned': 1,\n",
       " 'num_target_files_skipped_during_scan': 0,\n",
       " 'num_target_files_added': 2,\n",
       " 'num_target_files_removed': 1,\n",
       " 'execution_time_ms': 39,\n",
       " 'scan_time_ms': 0,\n",
       " 'rewrite_time_ms': 14}"
      ]
     },
     "execution_count": 17,
     "metadata": {},
     "output_type": "execute_result"
    }
   ],
   "source": [
    "(\n",
    "    dt.merge(\n",
    "        df,\n",
    "        \"delta.category_id = arquivo.category_id\",\n",
    "        source_alias=\"arquivo\",\n",
    "        target_alias=\"delta\",\n",
    "    )\n",
    "    .when_matched_update_all()\n",
    "    .when_not_matched_insert_all()\n",
    "    .execute()\n",
    ")"
   ]
  },
  {
   "cell_type": "code",
   "execution_count": 19,
   "metadata": {},
   "outputs": [
    {
     "data": {
      "text/plain": [
       "[{'timestamp': 1732635364612,\n",
       "  'operation': 'MERGE',\n",
       "  'operationParameters': {'notMatchedPredicates': '[{\"actionType\":\"insert\"}]',\n",
       "   'mergePredicate': 'delta.category_id = arquivo.category_id',\n",
       "   'predicate': 'category_id BETWEEN 1 AND 7',\n",
       "   'notMatchedBySourcePredicates': '[]',\n",
       "   'matchedPredicates': '[{\"actionType\":\"update\"}]'},\n",
       "  'readVersion': 2,\n",
       "  'clientVersion': 'delta-rs.0.22.0',\n",
       "  'operationMetrics': {'execution_time_ms': 39,\n",
       "   'num_output_rows': 11,\n",
       "   'num_source_rows': 7,\n",
       "   'num_target_files_added': 2,\n",
       "   'num_target_files_removed': 1,\n",
       "   'num_target_files_scanned': 1,\n",
       "   'num_target_files_skipped_during_scan': 0,\n",
       "   'num_target_rows_copied': 0,\n",
       "   'num_target_rows_deleted': 0,\n",
       "   'num_target_rows_inserted': 3,\n",
       "   'num_target_rows_updated': 8,\n",
       "   'rewrite_time_ms': 14,\n",
       "   'scan_time_ms': 0},\n",
       "  'version': 3},\n",
       " {'timestamp': 1732634784997,\n",
       "  'operation': 'DELETE',\n",
       "  'operationParameters': {'predicate': 'category_id > 4'},\n",
       "  'readVersion': 1,\n",
       "  'clientVersion': 'delta-rs.0.22.0',\n",
       "  'operationMetrics': {'execution_time_ms': 60,\n",
       "   'num_added_files': 1,\n",
       "   'num_copied_rows': 8,\n",
       "   'num_deleted_rows': 6,\n",
       "   'num_removed_files': 2,\n",
       "   'rewrite_time_ms': 23,\n",
       "   'scan_time_ms': 36},\n",
       "  'version': 2},\n",
       " {'timestamp': 1732634648187,\n",
       "  'operation': 'WRITE',\n",
       "  'operationParameters': {'mode': 'Append'},\n",
       "  'operationMetrics': {'execution_time_ms': 8,\n",
       "   'num_added_files': 1,\n",
       "   'num_added_rows': 7,\n",
       "   'num_partitions': 0,\n",
       "   'num_removed_files': 0},\n",
       "  'clientVersion': 'delta-rs.0.22.0',\n",
       "  'version': 1},\n",
       " {'timestamp': 1732633712276,\n",
       "  'operation': 'WRITE',\n",
       "  'operationParameters': {'mode': 'Append'},\n",
       "  'clientVersion': 'delta-rs.0.22.0',\n",
       "  'operationMetrics': {'execution_time_ms': 67,\n",
       "   'num_added_files': 1,\n",
       "   'num_added_rows': 7,\n",
       "   'num_partitions': 0,\n",
       "   'num_removed_files': 0},\n",
       "  'version': 0}]"
      ]
     },
     "execution_count": 19,
     "metadata": {},
     "output_type": "execute_result"
    }
   ],
   "source": [
    "dt.history()"
   ]
  },
  {
   "cell_type": "code",
   "execution_count": 27,
   "metadata": {},
   "outputs": [],
   "source": [
    "dados = con.sql(\" SELECT * FROM 's3://land/uff/delta/categories/_delta_log/*.json'\")"
   ]
  },
  {
   "cell_type": "code",
   "execution_count": 31,
   "metadata": {},
   "outputs": [
    {
     "data": {
      "text/plain": [
       "┌───────────┐\n",
       "│ operation │\n",
       "│  varchar  │\n",
       "├───────────┤\n",
       "│ DELETE    │\n",
       "│ MERGE     │\n",
       "│ NULL      │\n",
       "│ WRITE     │\n",
       "└───────────┘"
      ]
     },
     "execution_count": 31,
     "metadata": {},
     "output_type": "execute_result"
    }
   ],
   "source": [
    "dados[\"commitInfo\"][\"operation\"].aggregate(\"operation\")"
   ]
  },
  {
   "cell_type": "code",
   "execution_count": 33,
   "metadata": {},
   "outputs": [
    {
     "data": {
      "text/plain": [
       "3"
      ]
     },
     "execution_count": 33,
     "metadata": {},
     "output_type": "execute_result"
    }
   ],
   "source": [
    "dt.version()"
   ]
  },
  {
   "cell_type": "code",
   "execution_count": 40,
   "metadata": {},
   "outputs": [],
   "source": [
    "dt.load_as_version(1)"
   ]
  },
  {
   "cell_type": "code",
   "execution_count": 42,
   "metadata": {},
   "outputs": [
    {
     "data": {
      "text/html": [
       "<div>\n",
       "<style scoped>\n",
       "    .dataframe tbody tr th:only-of-type {\n",
       "        vertical-align: middle;\n",
       "    }\n",
       "\n",
       "    .dataframe tbody tr th {\n",
       "        vertical-align: top;\n",
       "    }\n",
       "\n",
       "    .dataframe thead th {\n",
       "        text-align: right;\n",
       "    }\n",
       "</style>\n",
       "<table border=\"1\" class=\"dataframe\">\n",
       "  <thead>\n",
       "    <tr style=\"text-align: right;\">\n",
       "      <th></th>\n",
       "      <th>category_id</th>\n",
       "      <th>category_name</th>\n",
       "    </tr>\n",
       "  </thead>\n",
       "  <tbody>\n",
       "    <tr>\n",
       "      <th>0</th>\n",
       "      <td>1</td>\n",
       "      <td>Children Bicycles</td>\n",
       "    </tr>\n",
       "    <tr>\n",
       "      <th>1</th>\n",
       "      <td>2</td>\n",
       "      <td>Comfort Bicycles</td>\n",
       "    </tr>\n",
       "    <tr>\n",
       "      <th>2</th>\n",
       "      <td>3</td>\n",
       "      <td>Cruisers Bicycles</td>\n",
       "    </tr>\n",
       "    <tr>\n",
       "      <th>3</th>\n",
       "      <td>4</td>\n",
       "      <td>Cyclocross Bicycles</td>\n",
       "    </tr>\n",
       "    <tr>\n",
       "      <th>4</th>\n",
       "      <td>5</td>\n",
       "      <td>Electric Bikes</td>\n",
       "    </tr>\n",
       "    <tr>\n",
       "      <th>5</th>\n",
       "      <td>6</td>\n",
       "      <td>Mountain Bikes</td>\n",
       "    </tr>\n",
       "    <tr>\n",
       "      <th>6</th>\n",
       "      <td>7</td>\n",
       "      <td>Road Bikes</td>\n",
       "    </tr>\n",
       "    <tr>\n",
       "      <th>7</th>\n",
       "      <td>1</td>\n",
       "      <td>Children Bicycles</td>\n",
       "    </tr>\n",
       "    <tr>\n",
       "      <th>8</th>\n",
       "      <td>2</td>\n",
       "      <td>Comfort Bicycles</td>\n",
       "    </tr>\n",
       "    <tr>\n",
       "      <th>9</th>\n",
       "      <td>3</td>\n",
       "      <td>Cruisers Bicycles</td>\n",
       "    </tr>\n",
       "    <tr>\n",
       "      <th>10</th>\n",
       "      <td>4</td>\n",
       "      <td>Cyclocross Bicycles</td>\n",
       "    </tr>\n",
       "    <tr>\n",
       "      <th>11</th>\n",
       "      <td>5</td>\n",
       "      <td>Electric Bikes</td>\n",
       "    </tr>\n",
       "    <tr>\n",
       "      <th>12</th>\n",
       "      <td>6</td>\n",
       "      <td>Mountain Bikes</td>\n",
       "    </tr>\n",
       "    <tr>\n",
       "      <th>13</th>\n",
       "      <td>7</td>\n",
       "      <td>Road Bikes</td>\n",
       "    </tr>\n",
       "  </tbody>\n",
       "</table>\n",
       "</div>"
      ],
      "text/plain": [
       "    category_id        category_name\n",
       "0             1    Children Bicycles\n",
       "1             2     Comfort Bicycles\n",
       "2             3    Cruisers Bicycles\n",
       "3             4  Cyclocross Bicycles\n",
       "4             5       Electric Bikes\n",
       "5             6       Mountain Bikes\n",
       "6             7           Road Bikes\n",
       "7             1    Children Bicycles\n",
       "8             2     Comfort Bicycles\n",
       "9             3    Cruisers Bicycles\n",
       "10            4  Cyclocross Bicycles\n",
       "11            5       Electric Bikes\n",
       "12            6       Mountain Bikes\n",
       "13            7           Road Bikes"
      ]
     },
     "execution_count": 42,
     "metadata": {},
     "output_type": "execute_result"
    }
   ],
   "source": [
    "dt.to_pandas()"
   ]
  },
  {
   "cell_type": "code",
   "execution_count": 43,
   "metadata": {},
   "outputs": [],
   "source": [
    "con.close()"
   ]
  }
 ],
 "metadata": {
  "kernelspec": {
   "display_name": "Python 3",
   "language": "python",
   "name": "python3"
  },
  "language_info": {
   "codemirror_mode": {
    "name": "ipython",
    "version": 3
   },
   "file_extension": ".py",
   "mimetype": "text/x-python",
   "name": "python",
   "nbconvert_exporter": "python",
   "pygments_lexer": "ipython3",
   "version": "3.10.12"
  }
 },
 "nbformat": 4,
 "nbformat_minor": 2
}
