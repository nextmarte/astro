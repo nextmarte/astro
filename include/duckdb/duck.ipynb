{
 "cells": [
  {
   "cell_type": "code",
   "execution_count": 37,
   "metadata": {},
   "outputs": [],
   "source": [
    "import duckdb\n",
    "\n",
    "con = duckdb.connect()"
   ]
  },
  {
   "cell_type": "code",
   "execution_count": 38,
   "metadata": {},
   "outputs": [
    {
     "data": {
      "text/plain": [
       "┌─────────────────────────────────┐\n",
       "│ current_setting('memory_limit') │\n",
       "│             varchar             │\n",
       "├─────────────────────────────────┤\n",
       "│ 6.0 GiB                         │\n",
       "└─────────────────────────────────┘"
      ]
     },
     "execution_count": 38,
     "metadata": {},
     "output_type": "execute_result"
    }
   ],
   "source": [
    "con.sql(\"SELECT current_setting('memory_limit')\")"
   ]
  },
  {
   "cell_type": "code",
   "execution_count": 39,
   "metadata": {},
   "outputs": [],
   "source": [
    "con.sql(\"SET memory_limit='6GB'\")"
   ]
  },
  {
   "cell_type": "code",
   "execution_count": 40,
   "metadata": {},
   "outputs": [
    {
     "data": {
      "text/plain": [
       "┌────────────────────────────┐\n",
       "│ current_setting('threads') │\n",
       "│           int64            │\n",
       "├────────────────────────────┤\n",
       "│                         16 │\n",
       "└────────────────────────────┘"
      ]
     },
     "execution_count": 40,
     "metadata": {},
     "output_type": "execute_result"
    }
   ],
   "source": [
    "con.sql(\"SELECT current_setting('threads')\")"
   ]
  },
  {
   "cell_type": "code",
   "execution_count": 41,
   "metadata": {},
   "outputs": [
    {
     "data": {
      "text/plain": [
       "┌────────┬───────────┬───────────┬───────────┬──────────────┬────────────┐\n",
       "│ MarkID │ StudentID │ SubjectID │ TeacherID │ MarkObtained │  ExamDate  │\n",
       "│ int64  │   int64   │   int64   │   int64   │    int64     │    date    │\n",
       "├────────┼───────────┼───────────┼───────────┼──────────────┼────────────┤\n",
       "│      1 │         1 │         1 │         1 │           85 │ 2023-11-22 │\n",
       "│      2 │         1 │         2 │         2 │           78 │ 2023-11-22 │\n",
       "│      3 │         1 │         3 │         3 │           92 │ 2023-11-22 │\n",
       "│      4 │         1 │         4 │         4 │           88 │ 2023-11-22 │\n",
       "│      5 │         1 │         5 │         5 │           95 │ 2023-11-22 │\n",
       "│      6 │         1 │         6 │         6 │           80 │ 2023-11-22 │\n",
       "│      7 │         1 │         7 │         7 │           75 │ 2023-11-22 │\n",
       "│      8 │         1 │         8 │         8 │           89 │ 2023-11-22 │\n",
       "│      9 │         1 │         9 │         9 │           91 │ 2023-11-22 │\n",
       "│     10 │         1 │        10 │        10 │           93 │ 2023-11-22 │\n",
       "│      · │         · │         · │         · │            · │     ·      │\n",
       "│      · │         · │         · │         · │            · │     ·      │\n",
       "│      · │         · │         · │         · │            · │     ·      │\n",
       "│    231 │        20 │         1 │         1 │           82 │ 2023-11-22 │\n",
       "│    232 │        20 │         2 │         2 │           76 │ 2023-11-22 │\n",
       "│    233 │        20 │         3 │         3 │           91 │ 2023-11-22 │\n",
       "│    234 │        20 │         4 │         4 │           84 │ 2023-11-22 │\n",
       "│    235 │        20 │         5 │         5 │           89 │ 2023-11-22 │\n",
       "│    236 │        20 │         6 │         6 │           83 │ 2023-11-22 │\n",
       "│    237 │        20 │         7 │         7 │           79 │ 2023-11-22 │\n",
       "│    238 │        20 │         8 │         8 │           95 │ 2023-11-22 │\n",
       "│    239 │        20 │         9 │         9 │           88 │ 2023-11-22 │\n",
       "│    240 │        20 │        10 │        10 │           92 │ 2023-11-22 │\n",
       "├────────┴───────────┴───────────┴───────────┴──────────────┴────────────┤\n",
       "│ 240 rows (20 shown)                                          6 columns │\n",
       "└────────────────────────────────────────────────────────────────────────┘"
      ]
     },
     "execution_count": 41,
     "metadata": {},
     "output_type": "execute_result"
    }
   ],
   "source": [
    "con.sql(\"SELECT * FROM 'Marks.csv'\")"
   ]
  },
  {
   "cell_type": "code",
   "execution_count": 42,
   "metadata": {},
   "outputs": [
    {
     "data": {
      "text/plain": [
       "┌───────┬─────────┬────────────────────┬────────────────────┐\n",
       "│ year  │  state  │    so2_mass_lbs    │    nox_mass_lbs    │\n",
       "│ int32 │ varchar │       double       │       double       │\n",
       "├───────┼─────────┼────────────────────┼────────────────────┤\n",
       "│  1996 │ GA      │  753927492.9808772 │ 244661488.37480748 │\n",
       "│  1998 │ AZ      │ 203686519.80564362 │ 170206785.20515555 │\n",
       "│  1999 │ DC      │  2864501.296291709 │  894183.3523827046 │\n",
       "│  1999 │ SD      │   51391227.3654905 │ 47312150.408458956 │\n",
       "│  2001 │ MS      │  276717210.5687789 │ 115624727.74636243 │\n",
       "│  2001 │ AR      │ 157458325.83983696 │  94951953.27413897 │\n",
       "│  2002 │ NJ      │  96538357.87626874 │  72961842.99603403 │\n",
       "│  2003 │ FL      │  950646956.0189934 │  505311729.8340998 │\n",
       "│  2005 │ CA      │   344796.168035196 │  8713237.151738198 │\n",
       "│  2005 │ NJ      │ 108107141.11004217 │   60295276.8560797 │\n",
       "│    ·  │ ·       │          ·         │           ·        │\n",
       "│    ·  │ ·       │          ·         │           ·        │\n",
       "│    ·  │ ·       │          ·         │           ·        │\n",
       "│  2012 │ SD      │ 24582237.592013773 │  21333735.54024019 │\n",
       "│  2016 │ OK      │  98969336.43804415 │  50632643.54309953 │\n",
       "│  2018 │ OR      │  4721399.584484052 │  4897488.701005484 │\n",
       "│  2019 │ MN      │  18159855.89949069 │  26865394.57118152 │\n",
       "│  2019 │ AZ      │  24187509.24642703 │  53541917.93067911 │\n",
       "│  2019 │ IA      │  53486619.60029486 │  36469463.72167818 │\n",
       "│  2020 │ IA      │ 35228335.673727825 │ 23809478.443251856 │\n",
       "│  2021 │ MT      │  9428343.251987912 │ 16589205.560185421 │\n",
       "│  2021 │ AZ      │ 15097273.145961093 │ 30630576.469457306 │\n",
       "│  2022 │ OK      │ 25569490.344163783 │ 37747285.551768966 │\n",
       "├───────┴─────────┴────────────────────┴────────────────────┤\n",
       "│ 1378 rows (20 shown)                            4 columns │\n",
       "└───────────────────────────────────────────────────────────┘"
      ]
     },
     "execution_count": 42,
     "metadata": {},
     "output_type": "execute_result"
    }
   ],
   "source": [
    "con.sql(\"SELECT * FROM 'core_emissions.parquet'\")"
   ]
  },
  {
   "cell_type": "code",
   "execution_count": 43,
   "metadata": {},
   "outputs": [
    {
     "data": {
      "text/plain": [
       "┌──────────────────┬─────────┬───────────┬────────────────────────────────────────────────────────────────────────────────────┬────────────────────────────────────────────────────────────────────────────────────┬───────────────────┬───────────────────┬───────────────────┬────────────────┐\n",
       "│  extension_name  │ loaded  │ installed │                                    install_path                                    │                                    description                                     │      aliases      │ extension_version │   install_mode    │ installed_from │\n",
       "│     varchar      │ boolean │  boolean  │                                      varchar                                       │                                      varchar                                       │     varchar[]     │      varchar      │      varchar      │    varchar     │\n",
       "├──────────────────┼─────────┼───────────┼────────────────────────────────────────────────────────────────────────────────────┼────────────────────────────────────────────────────────────────────────────────────┼───────────────────┼───────────────────┼───────────────────┼────────────────┤\n",
       "│ arrow            │ false   │ false     │                                                                                    │ A zero-copy data integration between Apache Arrow and DuckDB                       │ []                │                   │ NULL              │                │\n",
       "│ autocomplete     │ false   │ false     │                                                                                    │ Adds support for autocomplete in the shell                                         │ []                │                   │ NULL              │                │\n",
       "│ aws              │ false   │ false     │                                                                                    │ Provides features that depend on the AWS SDK                                       │ []                │                   │ NULL              │                │\n",
       "│ azure            │ false   │ false     │                                                                                    │ Adds a filesystem abstraction for Azure blob storage to DuckDB                     │ []                │                   │ NULL              │                │\n",
       "│ delta            │ false   │ false     │                                                                                    │ Adds support for Delta Lake                                                        │ []                │                   │ NULL              │                │\n",
       "│ excel            │ false   │ false     │                                                                                    │ Adds support for Excel-like format strings                                         │ []                │                   │ NULL              │                │\n",
       "│ fts              │ false   │ true      │ (BUILT-IN)                                                                         │ Adds support for Full-Text Search Indexes                                          │ []                │                   │ STATICALLY_LINKED │                │\n",
       "│ httpfs           │ false   │ true      │ /home/nextmarte/.duckdb/extensions/v1.1.3/linux_amd64_gcc4/httpfs.duckdb_extension │ Adds support for reading and writing files over a HTTP(S) connection               │ [http, https, s3] │ v1.1.3            │ REPOSITORY        │ core           │\n",
       "│ iceberg          │ false   │ false     │                                                                                    │ Adds support for Apache Iceberg                                                    │ []                │                   │ NULL              │                │\n",
       "│ icu              │ true    │ true      │ (BUILT-IN)                                                                         │ Adds support for time zones and collations using the ICU library                   │ []                │                   │ STATICALLY_LINKED │                │\n",
       "│ inet             │ false   │ false     │                                                                                    │ Adds support for IP-related data types and functions                               │ []                │                   │ NULL              │                │\n",
       "│ jemalloc         │ true    │ true      │ (BUILT-IN)                                                                         │ Overwrites system allocator with JEMalloc                                          │ []                │                   │ STATICALLY_LINKED │                │\n",
       "│ json             │ true    │ true      │ (BUILT-IN)                                                                         │ Adds support for JSON operations                                                   │ []                │                   │ STATICALLY_LINKED │                │\n",
       "│ motherduck       │ false   │ false     │                                                                                    │ Enables motherduck integration with the system                                     │ [md]              │                   │ NULL              │                │\n",
       "│ mysql_scanner    │ false   │ false     │                                                                                    │ Adds support for connecting to a MySQL database                                    │ [mysql]           │                   │ NULL              │                │\n",
       "│ parquet          │ true    │ true      │ (BUILT-IN)                                                                         │ Adds support for reading and writing parquet files                                 │ []                │                   │ STATICALLY_LINKED │                │\n",
       "│ postgres_scanner │ false   │ false     │                                                                                    │ Adds support for connecting to a Postgres database                                 │ [postgres]        │                   │ NULL              │                │\n",
       "│ spatial          │ false   │ false     │                                                                                    │ Geospatial extension that adds support for working with spatial data and functions │ []                │                   │ NULL              │                │\n",
       "│ sqlite_scanner   │ false   │ false     │                                                                                    │ Adds support for reading and writing SQLite database files                         │ [sqlite, sqlite3] │                   │ NULL              │                │\n",
       "│ substrait        │ false   │ false     │                                                                                    │ Adds support for the Substrait integration                                         │ []                │                   │ NULL              │                │\n",
       "│ tpcds            │ true    │ true      │ (BUILT-IN)                                                                         │ Adds TPC-DS data generation and query support                                      │ []                │                   │ STATICALLY_LINKED │                │\n",
       "│ tpch             │ true    │ true      │ (BUILT-IN)                                                                         │ Adds TPC-H data generation and query support                                       │ []                │                   │ STATICALLY_LINKED │                │\n",
       "│ vss              │ false   │ false     │                                                                                    │ Adds indexing support to accelerate Vector Similarity Search                       │ []                │                   │ NULL              │                │\n",
       "├──────────────────┴─────────┴───────────┴────────────────────────────────────────────────────────────────────────────────────┴────────────────────────────────────────────────────────────────────────────────────┴───────────────────┴───────────────────┴───────────────────┴────────────────┤\n",
       "│ 23 rows                                                                                                                                                                                                                                                                             9 columns │\n",
       "└───────────────────────────────────────────────────────────────────────────────────────────────────────────────────────────────────────────────────────────────────────────────────────────────────────────────────────────────────────────────────────────────────────────────────────────────┘"
      ]
     },
     "execution_count": 43,
     "metadata": {},
     "output_type": "execute_result"
    }
   ],
   "source": [
    "# https://raw.githubusercontent.com/datasets/covid-19/main/data/countries-aggregated.csv\n",
    "\n",
    "con.sql(\"SELECT * FROM duckdb_extensions()\")"
   ]
  },
  {
   "cell_type": "code",
   "execution_count": 44,
   "metadata": {},
   "outputs": [
    {
     "data": {
      "text/plain": [
       "┌────────────┬─────────────┬───────────┬───────────┬────────┐\n",
       "│    Date    │   Country   │ Confirmed │ Recovered │ Deaths │\n",
       "│    date    │   varchar   │   int64   │   int64   │ int64  │\n",
       "├────────────┼─────────────┼───────────┼───────────┼────────┤\n",
       "│ 2020-01-22 │ Afghanistan │         0 │         0 │      0 │\n",
       "│ 2020-01-23 │ Afghanistan │         0 │         0 │      0 │\n",
       "│ 2020-01-24 │ Afghanistan │         0 │         0 │      0 │\n",
       "│ 2020-01-25 │ Afghanistan │         0 │         0 │      0 │\n",
       "│ 2020-01-26 │ Afghanistan │         0 │         0 │      0 │\n",
       "│ 2020-01-27 │ Afghanistan │         0 │         0 │      0 │\n",
       "│ 2020-01-28 │ Afghanistan │         0 │         0 │      0 │\n",
       "│ 2020-01-29 │ Afghanistan │         0 │         0 │      0 │\n",
       "│ 2020-01-30 │ Afghanistan │         0 │         0 │      0 │\n",
       "│ 2020-01-31 │ Afghanistan │         0 │         0 │      0 │\n",
       "│     ·      │    ·        │         · │         · │      · │\n",
       "│     ·      │    ·        │         · │         · │      · │\n",
       "│     ·      │    ·        │         · │         · │      · │\n",
       "│ 2020-08-07 │ Bahamas     │       830 │        95 │     14 │\n",
       "│ 2020-08-08 │ Bahamas     │       878 │        99 │     14 │\n",
       "│ 2020-08-09 │ Bahamas     │       898 │       104 │     15 │\n",
       "│ 2020-08-10 │ Bahamas     │       945 │       113 │     15 │\n",
       "│ 2020-08-11 │ Bahamas     │       989 │       116 │     15 │\n",
       "│ 2020-08-12 │ Bahamas     │      1036 │       122 │     15 │\n",
       "│ 2020-08-13 │ Bahamas     │      1089 │       138 │     15 │\n",
       "│ 2020-08-14 │ Bahamas     │      1119 │       138 │     17 │\n",
       "│ 2020-08-15 │ Bahamas     │      1252 │       160 │     17 │\n",
       "│ 2020-08-16 │ Bahamas     │      1315 │       189 │     18 │\n",
       "├────────────┴─────────────┴───────────┴───────────┴────────┤\n",
       "│ ? rows (>9999 rows, 20 shown)                   5 columns │\n",
       "└───────────────────────────────────────────────────────────┘"
      ]
     },
     "execution_count": 44,
     "metadata": {},
     "output_type": "execute_result"
    }
   ],
   "source": [
    "con.sql(\n",
    "    \"SELECT * FROM 'https://raw.githubusercontent.com/datasets/covid-19/main/data/countries-aggregated.csv'\"\n",
    ")"
   ]
  },
  {
   "cell_type": "code",
   "execution_count": 45,
   "metadata": {},
   "outputs": [],
   "source": [
    "con.sql(\"INSTALL httpfs\")\n",
    "con.sql(\"LOAD httpfs \")"
   ]
  },
  {
   "cell_type": "code",
   "execution_count": 46,
   "metadata": {},
   "outputs": [
    {
     "data": {
      "text/plain": [
       "┌────────────┬─────────────┬───────────┬───────────┬────────┐\n",
       "│    Date    │   Country   │ Confirmed │ Recovered │ Deaths │\n",
       "│    date    │   varchar   │   int64   │   int64   │ int64  │\n",
       "├────────────┼─────────────┼───────────┼───────────┼────────┤\n",
       "│ 2020-01-22 │ Afghanistan │         0 │         0 │      0 │\n",
       "│ 2020-01-23 │ Afghanistan │         0 │         0 │      0 │\n",
       "│ 2020-01-24 │ Afghanistan │         0 │         0 │      0 │\n",
       "│ 2020-01-25 │ Afghanistan │         0 │         0 │      0 │\n",
       "│ 2020-01-26 │ Afghanistan │         0 │         0 │      0 │\n",
       "│ 2020-01-27 │ Afghanistan │         0 │         0 │      0 │\n",
       "│ 2020-01-28 │ Afghanistan │         0 │         0 │      0 │\n",
       "│ 2020-01-29 │ Afghanistan │         0 │         0 │      0 │\n",
       "│ 2020-01-30 │ Afghanistan │         0 │         0 │      0 │\n",
       "│ 2020-01-31 │ Afghanistan │         0 │         0 │      0 │\n",
       "│     ·      │    ·        │         · │         · │      · │\n",
       "│     ·      │    ·        │         · │         · │      · │\n",
       "│     ·      │    ·        │         · │         · │      · │\n",
       "│ 2020-08-07 │ Bahamas     │       830 │        95 │     14 │\n",
       "│ 2020-08-08 │ Bahamas     │       878 │        99 │     14 │\n",
       "│ 2020-08-09 │ Bahamas     │       898 │       104 │     15 │\n",
       "│ 2020-08-10 │ Bahamas     │       945 │       113 │     15 │\n",
       "│ 2020-08-11 │ Bahamas     │       989 │       116 │     15 │\n",
       "│ 2020-08-12 │ Bahamas     │      1036 │       122 │     15 │\n",
       "│ 2020-08-13 │ Bahamas     │      1089 │       138 │     15 │\n",
       "│ 2020-08-14 │ Bahamas     │      1119 │       138 │     17 │\n",
       "│ 2020-08-15 │ Bahamas     │      1252 │       160 │     17 │\n",
       "│ 2020-08-16 │ Bahamas     │      1315 │       189 │     18 │\n",
       "├────────────┴─────────────┴───────────┴───────────┴────────┤\n",
       "│ ? rows (>9999 rows, 20 shown)                   5 columns │\n",
       "└───────────────────────────────────────────────────────────┘"
      ]
     },
     "execution_count": 46,
     "metadata": {},
     "output_type": "execute_result"
    }
   ],
   "source": [
    "url = \"https://raw.githubusercontent.com/datasets/covid-19/main/data/countries-aggregated.csv\"\n",
    "con.sql(f\"SELECT * FROM '{url}'\")"
   ]
  },
  {
   "cell_type": "code",
   "execution_count": 47,
   "metadata": {},
   "outputs": [
    {
     "data": {
      "text/plain": [
       "┌─────────┐\n",
       "│ Success │\n",
       "│ boolean │\n",
       "├─────────┤\n",
       "│ true    │\n",
       "└─────────┘"
      ]
     },
     "execution_count": 47,
     "metadata": {},
     "output_type": "execute_result"
    }
   ],
   "source": [
    "con.sql(\"\"\" CREATE SECRET secret1 (\n",
    "            TYPE S3,\n",
    "            KEY_ID 'E1bb9GmAwnOnxY3YFdfL',\n",
    "            SECRET '9wehFY9StKHamvgfnjWLoPphNOTYTnWIjzNkYpTn',\n",
    "            REGION 'us-east-1',\n",
    "            ENDPOINT 'localhost:9002',\n",
    "            URL_STYLE 'path',\n",
    "            USE_SSL 'false'\n",
    "\n",
    "        );\n",
    "    \"\"\")"
   ]
  },
  {
   "cell_type": "code",
   "execution_count": 48,
   "metadata": {},
   "outputs": [],
   "source": [
    "# fazendo a ingestão de Markers.csv no minio\n",
    "\n",
    "\n",
    "con.sql(\"COPY (SELECT * FROM 'Marks.csv') TO 's3://land/uff/duckdb_files/Marks.csv' \")"
   ]
  },
  {
   "cell_type": "code",
   "execution_count": 49,
   "metadata": {},
   "outputs": [],
   "source": [
    "url = \"https://raw.githubusercontent.com/datasets/covid-19/main/data/countries-aggregated.csv\"\n",
    "con.sql(\n",
    "    f\"COPY (SELECT * FROM '{url}') TO 's3://land/uff/duckdb_files/countries-aggregated.parquet' \"\n",
    ")"
   ]
  },
  {
   "cell_type": "code",
   "execution_count": 50,
   "metadata": {},
   "outputs": [
    {
     "data": {
      "text/plain": [
       "┌────────────┬─────────────┬───────────┬───────────┬────────┐\n",
       "│    Date    │   Country   │ Confirmed │ Recovered │ Deaths │\n",
       "│    date    │   varchar   │   int64   │   int64   │ int64  │\n",
       "├────────────┼─────────────┼───────────┼───────────┼────────┤\n",
       "│ 2020-01-22 │ Afghanistan │         0 │         0 │      0 │\n",
       "│ 2020-01-23 │ Afghanistan │         0 │         0 │      0 │\n",
       "│ 2020-01-24 │ Afghanistan │         0 │         0 │      0 │\n",
       "│ 2020-01-25 │ Afghanistan │         0 │         0 │      0 │\n",
       "│ 2020-01-26 │ Afghanistan │         0 │         0 │      0 │\n",
       "│ 2020-01-27 │ Afghanistan │         0 │         0 │      0 │\n",
       "│ 2020-01-28 │ Afghanistan │         0 │         0 │      0 │\n",
       "│ 2020-01-29 │ Afghanistan │         0 │         0 │      0 │\n",
       "│ 2020-01-30 │ Afghanistan │         0 │         0 │      0 │\n",
       "│ 2020-01-31 │ Afghanistan │         0 │         0 │      0 │\n",
       "│     ·      │    ·        │         · │         · │      · │\n",
       "│     ·      │    ·        │         · │         · │      · │\n",
       "│     ·      │    ·        │         · │         · │      · │\n",
       "│ 2020-08-07 │ Bahamas     │       830 │        95 │     14 │\n",
       "│ 2020-08-08 │ Bahamas     │       878 │        99 │     14 │\n",
       "│ 2020-08-09 │ Bahamas     │       898 │       104 │     15 │\n",
       "│ 2020-08-10 │ Bahamas     │       945 │       113 │     15 │\n",
       "│ 2020-08-11 │ Bahamas     │       989 │       116 │     15 │\n",
       "│ 2020-08-12 │ Bahamas     │      1036 │       122 │     15 │\n",
       "│ 2020-08-13 │ Bahamas     │      1089 │       138 │     15 │\n",
       "│ 2020-08-14 │ Bahamas     │      1119 │       138 │     17 │\n",
       "│ 2020-08-15 │ Bahamas     │      1252 │       160 │     17 │\n",
       "│ 2020-08-16 │ Bahamas     │      1315 │       189 │     18 │\n",
       "├────────────┴─────────────┴───────────┴───────────┴────────┤\n",
       "│ ? rows (>9999 rows, 20 shown)                   5 columns │\n",
       "└───────────────────────────────────────────────────────────┘"
      ]
     },
     "execution_count": 50,
     "metadata": {},
     "output_type": "execute_result"
    }
   ],
   "source": [
    "con.sql(\"SELECT * FROM  's3://land/uff/duckdb_files/countries-aggregated.parquet' \")"
   ]
  },
  {
   "cell_type": "code",
   "execution_count": 53,
   "metadata": {},
   "outputs": [],
   "source": [
    "con.sql(\"\"\"\n",
    "        CREATE TABLE countries AS\n",
    "        SELECT * FROM  's3://land/uff/duckdb_files/countries-aggregated.parquet' ;\n",
    "        \n",
    "        SELECT * FROM countries;\n",
    "        \n",
    "        drop table countries;\n",
    "        \"\"\")"
   ]
  },
  {
   "cell_type": "code",
   "execution_count": 34,
   "metadata": {},
   "outputs": [
    {
     "data": {
      "text/plain": [
       "┌────────────┬─────────────┬───────────┬───────────┬────────┐\n",
       "│    Date    │   Country   │ Confirmed │ Recovered │ Deaths │\n",
       "│    date    │   varchar   │   int64   │   int64   │ int64  │\n",
       "├────────────┼─────────────┼───────────┼───────────┼────────┤\n",
       "│ 2020-01-22 │ Afghanistan │         0 │         0 │      0 │\n",
       "│ 2020-01-23 │ Afghanistan │         0 │         0 │      0 │\n",
       "│ 2020-01-24 │ Afghanistan │         0 │         0 │      0 │\n",
       "│ 2020-01-25 │ Afghanistan │         0 │         0 │      0 │\n",
       "│ 2020-01-26 │ Afghanistan │         0 │         0 │      0 │\n",
       "│ 2020-01-27 │ Afghanistan │         0 │         0 │      0 │\n",
       "│ 2020-01-28 │ Afghanistan │         0 │         0 │      0 │\n",
       "│ 2020-01-29 │ Afghanistan │         0 │         0 │      0 │\n",
       "│ 2020-01-30 │ Afghanistan │         0 │         0 │      0 │\n",
       "│ 2020-01-31 │ Afghanistan │         0 │         0 │      0 │\n",
       "│     ·      │    ·        │         · │         · │      · │\n",
       "│     ·      │    ·        │         · │         · │      · │\n",
       "│     ·      │    ·        │         · │         · │      · │\n",
       "│ 2020-08-07 │ Bahamas     │       830 │        95 │     14 │\n",
       "│ 2020-08-08 │ Bahamas     │       878 │        99 │     14 │\n",
       "│ 2020-08-09 │ Bahamas     │       898 │       104 │     15 │\n",
       "│ 2020-08-10 │ Bahamas     │       945 │       113 │     15 │\n",
       "│ 2020-08-11 │ Bahamas     │       989 │       116 │     15 │\n",
       "│ 2020-08-12 │ Bahamas     │      1036 │       122 │     15 │\n",
       "│ 2020-08-13 │ Bahamas     │      1089 │       138 │     15 │\n",
       "│ 2020-08-14 │ Bahamas     │      1119 │       138 │     17 │\n",
       "│ 2020-08-15 │ Bahamas     │      1252 │       160 │     17 │\n",
       "│ 2020-08-16 │ Bahamas     │      1315 │       189 │     18 │\n",
       "├────────────┴─────────────┴───────────┴───────────┴────────┤\n",
       "│ ? rows (>9999 rows, 20 shown)                   5 columns │\n",
       "└───────────────────────────────────────────────────────────┘"
      ]
     },
     "execution_count": 34,
     "metadata": {},
     "output_type": "execute_result"
    }
   ],
   "source": [
    "con.sql(\"SELECT * FROM countries\")"
   ]
  },
  {
   "cell_type": "code",
   "execution_count": null,
   "metadata": {},
   "outputs": [],
   "source": [
    "con.sql(\"SELECT * FROM countries WHERE country = 'Brazil' \")"
   ]
  },
  {
   "cell_type": "code",
   "execution_count": 54,
   "metadata": {},
   "outputs": [],
   "source": [
    "con.close()"
   ]
  }
 ],
 "metadata": {
  "kernelspec": {
   "display_name": "Python 3",
   "language": "python",
   "name": "python3"
  },
  "language_info": {
   "codemirror_mode": {
    "name": "ipython",
    "version": 3
   },
   "file_extension": ".py",
   "mimetype": "text/x-python",
   "name": "python",
   "nbconvert_exporter": "python",
   "pygments_lexer": "ipython3",
   "version": "3.10.12"
  }
 },
 "nbformat": 4,
 "nbformat_minor": 2
}
