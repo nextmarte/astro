{
 "cells": [
  {
   "cell_type": "code",
   "execution_count": 15,
   "metadata": {},
   "outputs": [],
   "source": [
    "import duckdb\n",
    "import os\n",
    "from dotenv import load_dotenv, find_dotenv\n",
    "from deltalake import write_deltalake\n",
    "\n",
    "load_dotenv(find_dotenv())\n",
    "\n",
    "con = duckdb.connect()\n",
    "\n",
    "AWS_ACCESS_KEY_ID = os.getenv(\"AWS_ACCESS_KEY_MINIO\")\n",
    "AWS_SECRET_KEY_ID = os.getenv(\"AWS_SECRET_KEY_MINIO\")\n",
    "HOST_MINIO = os.getenv(\"HOST_MINIO\")\n",
    "PORT_MINIO = os.getenv(\"PORT_MINIO\")\n",
    "\n",
    "con.sql(f\"\"\" CREATE SECRET secret1 (\n",
    "            TYPE S3,\n",
    "            KEY_ID '{AWS_ACCESS_KEY_ID}',\n",
    "            SECRET '{AWS_SECRET_KEY_ID}',\n",
    "            REGION 'us-east-1',\n",
    "            ENDPOINT '{HOST_MINIO}:{PORT_MINIO}',\n",
    "            URL_STYLE 'path',\n",
    "            USE_SSL 'false'\n",
    "\n",
    "        );\n",
    "    \"\"\")\n",
    "\n",
    "storage_options = {\n",
    "    \"AWS_ACCESS_KEY_ID\": f\"{AWS_ACCESS_KEY_ID}\",\n",
    "    \"AWS_SECRET_ACCESS_KEY\": f\"{AWS_SECRET_KEY_ID}\",\n",
    "    \"AWS_ENDPOINT_URL\": f\"http://{HOST_MINIO}:{PORT_MINIO}\",\n",
    "    \"AWS_allow_http\": \"true\",\n",
    "    \"AWS_REGION\": \"us-east-1\",\n",
    "    \"AWS_S3_ALLOW_UNSAFE_RENAME\": \"true\",\n",
    "}"
   ]
  },
  {
   "cell_type": "code",
   "execution_count": 16,
   "metadata": {},
   "outputs": [],
   "source": [
    "path_land = \"s3://land/uff/projeto_comex\"\n",
    "path_bronze = \"s3://bronze/uff/projeto_comex\""
   ]
  },
  {
   "cell_type": "code",
   "execution_count": 22,
   "metadata": {},
   "outputs": [],
   "source": [
    "df = con.sql(f\"\"\" \n",
    "           SELECT\n",
    "           CAST(CO_ANO AS INT) AS ANO,\n",
    "           CAST(CO_MES AS INT) AS MES,\n",
    "           CAST(CO_NCM AS INT) AS FK_NCM,\n",
    "           CAST(CO_PAIS AS INT) AS FK_PAIS,\n",
    "           SG_UF_NCM AS FK_SIGA_ESTADO,\n",
    "           QT_ESTAT AS QUANTIDADE,\n",
    "           KG_LIQUIDO AS KG_LIQUIDO,\n",
    "           VL_FOB AS VALOR_MERCADORIA,\n",
    "           VL_FRETE AS VALOR_FRETE,\n",
    "           VL_SEGURO AS VALOR_SEGURO\n",
    "           FROM '{path_land}/IMP/*.parquet'\n",
    "           \"\"\").to_arrow_table()"
   ]
  },
  {
   "cell_type": "code",
   "execution_count": null,
   "metadata": {},
   "outputs": [],
   "source": []
  },
  {
   "cell_type": "code",
   "execution_count": 24,
   "metadata": {},
   "outputs": [],
   "source": [
    "write_deltalake(\n",
    "    f\"{path_bronze}/IMP\",\n",
    "    df,\n",
    "    mode=\"append\",\n",
    "    storage_options=storage_options,\n",
    "    partition_by=[\"ANO\"],\n",
    ")"
   ]
  },
  {
   "cell_type": "code",
   "execution_count": null,
   "metadata": {},
   "outputs": [
    {
     "data": {
      "text/plain": [
       "np.int32(10)"
      ]
     },
     "execution_count": 28,
     "metadata": {},
     "output_type": "execute_result"
    }
   ],
   "source": [
    "max_ano = con.sql(\"SELECT MAX(ANO) FROM df\").to_df().squeeze()\n",
    "\n",
    "max_mes = con.sql(f\"SELECT MAX(MES) FROM df WHERE ANO = {max_ano}\").to_df().squeeze()"
   ]
  },
  {
   "cell_type": "code",
   "execution_count": 34,
   "metadata": {},
   "outputs": [],
   "source": [
    "df = con.sql(f\"\"\" \n",
    "           SELECT\n",
    "           CAST(CO_ANO AS INT) AS ANO,\n",
    "           CAST(CO_MES AS INT) AS MES,\n",
    "           CAST(CO_NCM AS INT) AS FK_NCM,\n",
    "           CAST(CO_PAIS AS INT) AS FK_PAIS,\n",
    "           SG_UF_NCM AS FK_SIGA_ESTADO,\n",
    "           QT_ESTAT AS QUANTIDADE,\n",
    "           KG_LIQUIDO AS KG_LIQUIDO,\n",
    "           VL_FOB AS VALOR_MERCADORIA,\n",
    "           VL_FRETE AS VALOR_FRETE,\n",
    "           VL_SEGURO AS VALOR_SEGURO\n",
    "           FROM '{path_land}/IMP/*.parquet'\n",
    "           WHERE CAST(CO_ANO AS INT) > {max_ano} OR (   \n",
    "           CAST(CO_ANO AS INT) = {max_ano} AND \n",
    "           CAST(CO_MES AS INT) > {max_mes}\n",
    "           )\n",
    "           \"\"\").to_arrow_table()"
   ]
  },
  {
   "cell_type": "code",
   "execution_count": 37,
   "metadata": {},
   "outputs": [],
   "source": [
    "if len(df) > 0:\n",
    "    write_deltalake(\n",
    "        f\"{path_bronze}/IMP\",\n",
    "        df,\n",
    "        mode=\"append\",\n",
    "        storage_options=storage_options,\n",
    "        partition_by=[\"ANO\"],\n",
    "    )"
   ]
  },
  {
   "cell_type": "code",
   "execution_count": 38,
   "metadata": {},
   "outputs": [],
   "source": [
    "con.close()"
   ]
  }
 ],
 "metadata": {
  "kernelspec": {
   "display_name": "Python 3",
   "language": "python",
   "name": "python3"
  },
  "language_info": {
   "codemirror_mode": {
    "name": "ipython",
    "version": 3
   },
   "file_extension": ".py",
   "mimetype": "text/x-python",
   "name": "python",
   "nbconvert_exporter": "python",
   "pygments_lexer": "ipython3",
   "version": "3.10.12"
  }
 },
 "nbformat": 4,
 "nbformat_minor": 2
}
