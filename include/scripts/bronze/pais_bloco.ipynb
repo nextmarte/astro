{
 "cells": [
  {
   "cell_type": "code",
   "execution_count": null,
   "metadata": {},
   "outputs": [],
   "source": [
    "import duckdb\n",
    "import os\n",
    "from dotenv import load_dotenv, find_dotenv\n",
    "from deltalake import DeltaTable, write_deltalake\n",
    "\n",
    "load_dotenv(find_dotenv())\n",
    "\n",
    "con = duckdb.connect()\n",
    "\n",
    "AWS_ACCESS_KEY_ID = os.getenv(\"AWS_ACCESS_KEY_MINIO\")\n",
    "AWS_SECRET_KEY_ID = os.getenv(\"AWS_SECRET_KEY_MINIO\")\n",
    "HOST_MINIO = os.getenv(\"HOST_MINIO\")\n",
    "PORT_MINIO = os.getenv(\"PORT_MINIO\")\n",
    "\n",
    "con.sql(f\"\"\" CREATE SECRET secret1 (\n",
    "            TYPE S3,\n",
    "            KEY_ID '{AWS_ACCESS_KEY_ID}',\n",
    "            SECRET '{AWS_SECRET_KEY_ID}',\n",
    "            REGION 'us-east-1',\n",
    "            ENDPOINT '{HOST_MINIO}:{PORT_MINIO}',\n",
    "            URL_STYLE 'path',\n",
    "            USE_SSL 'false'\n",
    "\n",
    "        );\n",
    "    \"\"\")\n",
    "\n",
    "storage_options = {\n",
    "    \"AWS_ACCESS_KEY_ID\": f\"{AWS_ACCESS_KEY_ID}\",\n",
    "    \"AWS_SECRET_ACCESS_KEY\": f\"{AWS_SECRET_KEY_ID}\",\n",
    "    \"AWS_ENDPOINT_URL\": f\"http://{HOST_MINIO}:{PORT_MINIO}\",\n",
    "    \"AWS_allow_http\": \"true\",\n",
    "    \"AWS_REGION\": \"us-east-1\",\n",
    "    \"AWS_S3_ALLOW_UNSAFE_RENAME\": \"true\",\n",
    "}"
   ]
  },
  {
   "cell_type": "code",
   "execution_count": 41,
   "metadata": {},
   "outputs": [],
   "source": [
    "path_land = \"s3://land/uff/projeto_comex\"\n",
    "path_bronze = \"s3://bronze/uff/projeto_comex\""
   ]
  },
  {
   "cell_type": "code",
   "execution_count": 42,
   "metadata": {},
   "outputs": [],
   "source": [
    "df = con.sql(f\"\"\" \n",
    "           SELECT\n",
    "           CAST(CO_PAIS AS INT) AS CODIGO_PAIS,\n",
    "           CAST(CO_BLOCO AS INT) AS CODIGO_BLOCO,\n",
    "           NO_BLOCO AS NOME_BLOCO,\n",
    "           FROM '{path_land}/PAIS_BLOCO.parquet'\n",
    "           \"\"\").to_arrow_table()"
   ]
  },
  {
   "cell_type": "code",
   "execution_count": null,
   "metadata": {},
   "outputs": [],
   "source": [
    "write_deltalake(\n",
    "    f\"{path_bronze}/PAIS_BLOCO\", df, mode=\"append\", storage_options=storage_options\n",
    ")"
   ]
  },
  {
   "cell_type": "code",
   "execution_count": 55,
   "metadata": {},
   "outputs": [],
   "source": [
    "table_path = f\"{path_bronze}/PAIS_BLOCO\"\n",
    "table = DeltaTable(table_path, storage_options=storage_options)"
   ]
  },
  {
   "cell_type": "code",
   "execution_count": 56,
   "metadata": {},
   "outputs": [
    {
     "data": {
      "text/plain": [
       "{'num_source_rows': 322,\n",
       " 'num_target_rows_inserted': 0,\n",
       " 'num_target_rows_updated': 424,\n",
       " 'num_target_rows_deleted': 0,\n",
       " 'num_target_rows_copied': 0,\n",
       " 'num_output_rows': 424,\n",
       " 'num_target_files_scanned': 1,\n",
       " 'num_target_files_skipped_during_scan': 0,\n",
       " 'num_target_files_added': 1,\n",
       " 'num_target_files_removed': 1,\n",
       " 'execution_time_ms': 86,\n",
       " 'scan_time_ms': 0,\n",
       " 'rewrite_time_ms': 21}"
      ]
     },
     "execution_count": 56,
     "metadata": {},
     "output_type": "execute_result"
    }
   ],
   "source": [
    "(\n",
    "    table.merge(\n",
    "        source=df,\n",
    "        predicate=\"target.CODIGO_PAIS = source.CODIGO_PAIS\",\n",
    "        source_alias=\"source\",\n",
    "        target_alias=\"target\",\n",
    "    )\n",
    ").when_matched_update_all().when_not_matched_insert_all().execute()"
   ]
  },
  {
   "cell_type": "code",
   "execution_count": 57,
   "metadata": {},
   "outputs": [],
   "source": [
    "con.close()"
   ]
  }
 ],
 "metadata": {
  "kernelspec": {
   "display_name": "Python 3",
   "language": "python",
   "name": "python3"
  },
  "language_info": {
   "codemirror_mode": {
    "name": "ipython",
    "version": 3
   },
   "file_extension": ".py",
   "mimetype": "text/x-python",
   "name": "python",
   "nbconvert_exporter": "python",
   "pygments_lexer": "ipython3",
   "version": "3.10.12"
  }
 },
 "nbformat": 4,
 "nbformat_minor": 2
}
