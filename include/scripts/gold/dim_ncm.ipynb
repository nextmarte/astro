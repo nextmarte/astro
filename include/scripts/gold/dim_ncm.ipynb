{
 "cells": [
  {
   "cell_type": "code",
   "execution_count": 1,
   "metadata": {},
   "outputs": [],
   "source": [
    "import duckdb\n",
    "import os\n",
    "from dotenv import load_dotenv, find_dotenv\n",
    "from deltalake import DeltaTable, write_deltalake\n",
    "\n",
    "load_dotenv(find_dotenv())\n",
    "\n",
    "con = duckdb.connect()\n",
    "\n",
    "AWS_ACCESS_KEY_ID = os.getenv(\"AWS_ACCESS_KEY_MINIO\")\n",
    "AWS_SECRET_KEY_ID = os.getenv(\"AWS_SECRET_KEY_MINIO\")\n",
    "HOST_MINIO = os.getenv(\"HOST_MINIO\")\n",
    "PORT_MINIO = os.getenv(\"PORT_MINIO\")\n",
    "\n",
    "con.sql(f\"\"\" CREATE SECRET secret1 (\n",
    "            TYPE S3,\n",
    "            KEY_ID '{AWS_ACCESS_KEY_ID}',\n",
    "            SECRET '{AWS_SECRET_KEY_ID}',\n",
    "            REGION 'us-east-1',\n",
    "            ENDPOINT '{HOST_MINIO}:{PORT_MINIO}',\n",
    "            URL_STYLE 'path',\n",
    "            USE_SSL 'false'\n",
    "\n",
    "        );\n",
    "    \"\"\")\n",
    "\n",
    "storage_options = {\n",
    "    \"AWS_ACCESS_KEY_ID\": f\"{AWS_ACCESS_KEY_ID}\",\n",
    "    \"AWS_SECRET_ACCESS_KEY\": f\"{AWS_SECRET_KEY_ID}\",\n",
    "    \"AWS_ENDPOINT_URL\": f\"http://{HOST_MINIO}:{PORT_MINIO}\",\n",
    "    \"AWS_allow_http\": \"true\",\n",
    "    \"AWS_REGION\": \"us-east-1\",\n",
    "    \"AWS_S3_ALLOW_UNSAFE_RENAME\": \"true\",\n",
    "}"
   ]
  },
  {
   "cell_type": "code",
   "execution_count": 2,
   "metadata": {},
   "outputs": [],
   "source": [
    "path_silver = \"s3://silver/uff/projeto_comex\"\n",
    "path_gold = \"s3://gold/uff/projeto_comex\""
   ]
  },
  {
   "cell_type": "code",
   "execution_count": 31,
   "metadata": {},
   "outputs": [],
   "source": [
    "# Executa a consulta SQL para obter os dados e a descrição da tabela\n",
    "dim_ncm = con.sql(f\"\"\"\n",
    "                  \n",
    "                  WITH silver_ncm_ex AS\n",
    "                  (\n",
    "                      select distinct\n",
    "                        FK_NCM,\n",
    "                        NOME_NCM,\n",
    "                      FROM delta_scan('{path_silver}/EXP')\n",
    "                  ),\n",
    "                  silver_ncm_im AS\n",
    "                  (\n",
    "                      select distinct\n",
    "                        FK_NCM,\n",
    "                        NOME_NCM,\n",
    "                    FROM delta_scan('{path_silver}/IMP')\n",
    "                  )\n",
    "                  SELECT * FROM( \n",
    "                    select\n",
    "                      *\n",
    "                    from silver_ncm_ex\n",
    "                    union\n",
    "                    select\n",
    "                      *\n",
    "                    from silver_ncm_im\n",
    "                  ) A\n",
    "                  WHERE A.FK_NCM NOT IN(\n",
    "                    SELECT DISTINCT FK_NCM FROM delta_scan('{path_gold}/dim_ncm')\n",
    "                  )                   \n",
    "                  \"\"\").to_arrow_table()\n",
    "\n"
   ]
  },
  {
   "cell_type": "code",
   "execution_count": 18,
   "metadata": {},
   "outputs": [],
   "source": [
    "table_path = f\"{path_gold}/dim_ncm\""
   ]
  },
  {
   "cell_type": "code",
   "execution_count": null,
   "metadata": {},
   "outputs": [],
   "source": [
    "if len(dim_ncm) > 0:\n",
    "    write_deltalake(\n",
    "        f\"{path_gold}/dim_ncm\",\n",
    "        dim_ncm,\n",
    "        mode=\"append\",\n",
    "        storage_options=storage_options,\n",
    "    )"
   ]
  },
  {
   "cell_type": "code",
   "execution_count": 32,
   "metadata": {},
   "outputs": [],
   "source": [
    "con.close()"
   ]
  }
 ],
 "metadata": {
  "kernelspec": {
   "display_name": "Python 3",
   "language": "python",
   "name": "python3"
  },
  "language_info": {
   "codemirror_mode": {
    "name": "ipython",
    "version": 3
   },
   "file_extension": ".py",
   "mimetype": "text/x-python",
   "name": "python",
   "nbconvert_exporter": "python",
   "pygments_lexer": "ipython3",
   "version": "3.10.12"
  }
 },
 "nbformat": 4,
 "nbformat_minor": 2
}
