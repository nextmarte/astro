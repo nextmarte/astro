{
 "cells": [
  {
   "cell_type": "code",
   "execution_count": 1,
   "metadata": {},
   "outputs": [],
   "source": [
    "import duckdb\n",
    "import os\n",
    "from dotenv import load_dotenv, find_dotenv\n",
    "from deltalake import DeltaTable, write_deltalake\n",
    "\n",
    "load_dotenv(find_dotenv())\n",
    "\n",
    "con = duckdb.connect()\n",
    "\n",
    "AWS_ACCESS_KEY_ID = os.getenv(\"AWS_ACCESS_KEY_MINIO\")\n",
    "AWS_SECRET_KEY_ID = os.getenv(\"AWS_SECRET_KEY_MINIO\")\n",
    "HOST_MINIO = os.getenv(\"HOST_MINIO\")\n",
    "PORT_MINIO = os.getenv(\"PORT_MINIO\")\n",
    "\n",
    "con.sql(f\"\"\" CREATE SECRET secret1 (\n",
    "            TYPE S3,\n",
    "            KEY_ID '{AWS_ACCESS_KEY_ID}',\n",
    "            SECRET '{AWS_SECRET_KEY_ID}',\n",
    "            REGION 'us-east-1',\n",
    "            ENDPOINT '{HOST_MINIO}:{PORT_MINIO}',\n",
    "            URL_STYLE 'path',\n",
    "            USE_SSL 'false'\n",
    "\n",
    "        );\n",
    "    \"\"\")\n",
    "\n",
    "storage_options = {\n",
    "    \"AWS_ACCESS_KEY_ID\": f\"{AWS_ACCESS_KEY_ID}\",\n",
    "    \"AWS_SECRET_ACCESS_KEY\": f\"{AWS_SECRET_KEY_ID}\",\n",
    "    \"AWS_ENDPOINT_URL\": f\"http://{HOST_MINIO}:{PORT_MINIO}\",\n",
    "    \"AWS_allow_http\": \"true\",\n",
    "    \"AWS_REGION\": \"us-east-1\",\n",
    "    \"AWS_S3_ALLOW_UNSAFE_RENAME\": \"true\",\n",
    "}"
   ]
  },
  {
   "cell_type": "code",
   "execution_count": 3,
   "metadata": {},
   "outputs": [],
   "source": [
    "path_silver = \"s3://silver/uff/projeto_comex\"\n",
    "path_gold = \"s3://gold/uff/projeto_comex\""
   ]
  },
  {
   "cell_type": "code",
   "execution_count": 15,
   "metadata": {},
   "outputs": [
    {
     "data": {
      "text/plain": [
       "┌─────────────┬─────────────┬─────────┬─────────┬─────────┬─────────┐\n",
       "│ column_name │ column_type │  null   │   key   │ default │  extra  │\n",
       "│   varchar   │   varchar   │ varchar │ varchar │ varchar │ varchar │\n",
       "├─────────────┼─────────────┼─────────┼─────────┼─────────┼─────────┤\n",
       "│ PK_PAIS     │ INTEGER     │ YES     │ NULL    │ NULL    │ NULL    │\n",
       "│ NOME_PAIS   │ VARCHAR     │ YES     │ NULL    │ NULL    │ NULL    │\n",
       "│ NOME_BLOCO  │ VARCHAR     │ YES     │ NULL    │ NULL    │ NULL    │\n",
       "└─────────────┴─────────────┴─────────┴─────────┴─────────┴─────────┘"
      ]
     },
     "execution_count": 15,
     "metadata": {},
     "output_type": "execute_result"
    }
   ],
   "source": [
    "# Descreve a tabela dim_pais\n",
    "description = con.sql(f\"\"\"\n",
    "    DESCRIBE SELECT DISTINCT\n",
    "    *\n",
    "    FROM delta_scan('{path_gold}/dim_pais')\n",
    "\"\"\")\n",
    "\n",
    "# Exibe a descrição\n",
    "description"
   ]
  },
  {
   "cell_type": "code",
   "execution_count": 10,
   "metadata": {},
   "outputs": [],
   "source": [
    "# Executa a consulta SQL para obter os dados e a descrição da tabela\n",
    "dim_pais = con.sql(f\"\"\"\n",
    "                  \n",
    "                  WITH silver_pais_ex AS\n",
    "                  (\n",
    "                      select distinct\n",
    "                        FK_PAIS AS PK_PAIS,\n",
    "                        NOME_PAIS,\n",
    "                        NOME_BLOCO,\n",
    "                      FROM delta_scan('{path_silver}/EXP')\n",
    "                  ),\n",
    "                  silver_pais_im AS\n",
    "                  (\n",
    "                      select distinct\n",
    "                        FK_PAIS AS PK_PAIS,\n",
    "                        NOME_PAIS,\n",
    "                        NOME_BLOCO,\n",
    "                    FROM delta_scan('{path_silver}/IMP')\n",
    "                  )\n",
    "                  SELECT * FROM( \n",
    "                    select\n",
    "                      *\n",
    "                    from silver_pais_ex\n",
    "                    union\n",
    "                    select\n",
    "                      *\n",
    "                    from silver_pais_im\n",
    "                  ) A\n",
    "                  WHERE A.PK_PAIS NOT IN(\n",
    "                    SELECT DISTINCT PK_PAIS FROM delta_scan('{path_gold}/dim_pais')\n",
    "                  )                   \n",
    "                  \"\"\").to_arrow_table()\n",
    "\n"
   ]
  },
  {
   "cell_type": "code",
   "execution_count": 7,
   "metadata": {},
   "outputs": [],
   "source": [
    "table_path = f\"{path_gold}/dim_pais\""
   ]
  },
  {
   "cell_type": "code",
   "execution_count": 9,
   "metadata": {},
   "outputs": [],
   "source": [
    "if len(dim_pais) > 0:\n",
    "    write_deltalake(\n",
    "        f\"{path_gold}/dim_pais\",\n",
    "        dim_pais,\n",
    "        mode=\"append\",\n",
    "        storage_options=storage_options,\n",
    "    )"
   ]
  }
 ],
 "metadata": {
  "kernelspec": {
   "display_name": "Python 3",
   "language": "python",
   "name": "python3"
  },
  "language_info": {
   "codemirror_mode": {
    "name": "ipython",
    "version": 3
   },
   "file_extension": ".py",
   "mimetype": "text/x-python",
   "name": "python",
   "nbconvert_exporter": "python",
   "pygments_lexer": "ipython3",
   "version": "3.10.12"
  }
 },
 "nbformat": 4,
 "nbformat_minor": 2
}
