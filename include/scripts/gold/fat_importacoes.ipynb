{
 "cells": [
  {
   "cell_type": "code",
   "execution_count": 19,
   "metadata": {},
   "outputs": [],
   "source": [
    "import duckdb\n",
    "import os\n",
    "from dotenv import load_dotenv, find_dotenv\n",
    "from deltalake import DeltaTable, write_deltalake\n",
    "\n",
    "load_dotenv(find_dotenv())\n",
    "\n",
    "con = duckdb.connect()\n",
    "\n",
    "AWS_ACCESS_KEY_ID = os.getenv(\"AWS_ACCESS_KEY_MINIO\")\n",
    "AWS_SECRET_KEY_ID = os.getenv(\"AWS_SECRET_KEY_MINIO\")\n",
    "HOST_MINIO = os.getenv(\"HOST_MINIO\")\n",
    "PORT_MINIO = os.getenv(\"PORT_MINIO\")\n",
    "\n",
    "con.sql(f\"\"\" CREATE SECRET secret1 (\n",
    "            TYPE S3,\n",
    "            KEY_ID '{AWS_ACCESS_KEY_ID}',\n",
    "            SECRET '{AWS_SECRET_KEY_ID}',\n",
    "            REGION 'us-east-1',\n",
    "            ENDPOINT '{HOST_MINIO}:{PORT_MINIO}',\n",
    "            URL_STYLE 'path',\n",
    "            USE_SSL 'false'\n",
    "\n",
    "        );\n",
    "    \"\"\")\n",
    "\n",
    "storage_options = {\n",
    "    \"AWS_ACCESS_KEY_ID\": f\"{AWS_ACCESS_KEY_ID}\",\n",
    "    \"AWS_SECRET_ACCESS_KEY\": f\"{AWS_SECRET_KEY_ID}\",\n",
    "    \"AWS_ENDPOINT_URL\": f\"http://{HOST_MINIO}:{PORT_MINIO}\",\n",
    "    \"AWS_allow_http\": \"true\",\n",
    "    \"AWS_REGION\": \"us-east-1\",\n",
    "    \"AWS_S3_ALLOW_UNSAFE_RENAME\": \"true\",\n",
    "}"
   ]
  },
  {
   "cell_type": "code",
   "execution_count": 20,
   "metadata": {},
   "outputs": [],
   "source": [
    "path_silver = \"s3://silver/uff/projeto_comex\"\n",
    "path_gold = \"s3://gold/uff/projeto_comex\""
   ]
  },
  {
   "cell_type": "code",
   "execution_count": 21,
   "metadata": {},
   "outputs": [],
   "source": [
    "# con.sql(f\"\"\"\n",
    "#     SELECT\n",
    "#     *\n",
    "#     FROM delta_scan('{path_gold}/IMP')\n",
    "# \"\"\")"
   ]
  },
  {
   "cell_type": "code",
   "execution_count": null,
   "metadata": {},
   "outputs": [],
   "source": [
    "fat_imp = con.sql(f\"\"\"\n",
    "        SELECT  ANO,\n",
    "                ANO *100 + MES AS COD_DATA_MES,\n",
    "                FK_NCM,\n",
    "                FK_PAIS,\n",
    "                FK_SIGA_ESTADO,\n",
    "                QUANTIDADE,\n",
    "                KG_LIQUIDO,\n",
    "                VALOR_MERCADORIA,\n",
    "                VALOR_FRETE,\n",
    "                VALOR_SEGURO \n",
    "        FROM delta_scan('{path_silver}/IMP')\n",
    "        WHERE CAST(ANOS*100 + MES AS INT) >\n",
    "        (SELECT MAX(CAST(COD_DATA_MES AS INT)) FROM delta_scan('{path_gold}/FAT_IMP'))\n",
    "                  \"\"\").to_arrow_table()"
   ]
  },
  {
   "cell_type": "code",
   "execution_count": null,
   "metadata": {},
   "outputs": [],
   "source": [
    "if len(fat_imp) > 0:\n",
    "        write_deltalake(\n",
    "                f'{path_gold}/FAT_IMP',\n",
    "                fat_imp,\n",
    "                mode='append',\n",
    "                storage_options=storage_options,\n",
    "                partition_by= ['ANO']\n",
    "        )"
   ]
  },
  {
   "cell_type": "code",
   "execution_count": 8,
   "metadata": {},
   "outputs": [],
   "source": [
    "con.close()"
   ]
  }
 ],
 "metadata": {
  "kernelspec": {
   "display_name": "Python 3",
   "language": "python",
   "name": "python3"
  },
  "language_info": {
   "codemirror_mode": {
    "name": "ipython",
    "version": 3
   },
   "file_extension": ".py",
   "mimetype": "text/x-python",
   "name": "python",
   "nbconvert_exporter": "python",
   "pygments_lexer": "ipython3",
   "version": "3.10.12"
  }
 },
 "nbformat": 4,
 "nbformat_minor": 2
}
