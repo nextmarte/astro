{
 "cells": [
  {
   "cell_type": "code",
   "execution_count": 2,
   "metadata": {},
   "outputs": [],
   "source": [
    "import duckdb\n",
    "import pandas as pd\n",
    "import os\n",
    "from dotenv import load_dotenv, find_dotenv"
   ]
  },
  {
   "cell_type": "code",
   "execution_count": 3,
   "metadata": {},
   "outputs": [],
   "source": [
    "load_dotenv(find_dotenv())\n",
    "\n",
    "AWS_ACCESS_KEY_ID = os.getenv(\"AWS_ACCESS_KEY_MINIO\")\n",
    "AWS_SECRET_KEY_ID = os.getenv(\"AWS_SECRET_KEY_MINIO\")\n",
    "HOST_MINIO = os.getenv(\"HOST_MINIO\")\n",
    "PORT_MINIO = os.getenv(\"PORT_MINIO\")"
   ]
  },
  {
   "cell_type": "code",
   "execution_count": 4,
   "metadata": {},
   "outputs": [],
   "source": [
    "con = duckdb.connect()"
   ]
  },
  {
   "cell_type": "code",
   "execution_count": 5,
   "metadata": {},
   "outputs": [
    {
     "data": {
      "text/plain": [
       "┌─────────┐\n",
       "│ Success │\n",
       "│ boolean │\n",
       "├─────────┤\n",
       "│ true    │\n",
       "└─────────┘"
      ]
     },
     "execution_count": 5,
     "metadata": {},
     "output_type": "execute_result"
    }
   ],
   "source": [
    "con.sql(f\"\"\" CREATE SECRET secret1 (\n",
    "            TYPE S3,\n",
    "            KEY_ID '{AWS_ACCESS_KEY_ID}',\n",
    "            SECRET '{AWS_SECRET_KEY_ID}',\n",
    "            REGION 'us-east-1',\n",
    "            ENDPOINT '{HOST_MINIO}:{PORT_MINIO}',\n",
    "            URL_STYLE 'path',\n",
    "            USE_SSL 'false'\n",
    "\n",
    "        );\n",
    "    \"\"\")"
   ]
  },
  {
   "cell_type": "code",
   "execution_count": 6,
   "metadata": {},
   "outputs": [],
   "source": [
    "path_land = \"s3://land/uff/projeto_comex\""
   ]
  },
  {
   "cell_type": "code",
   "execution_count": 7,
   "metadata": {},
   "outputs": [],
   "source": [
    "lista_importacao_exportacao = [\"EXP\", \"IMP\"]\n",
    "lista_anos = [2023, 2024]\n",
    "\n",
    "for item_lista in lista_importacao_exportacao:\n",
    "    for item_ano in lista_anos:\n",
    "        con.sql(f\"\"\"\n",
    "                COPY (SELECT * FROM 'https://balanca.economia.gov.br/balanca/bd/comexstat-bd/ncm/{item_lista}_{item_ano}.csv')\n",
    "                TO '{path_land}/{item_lista}/{item_ano}.parquet'\n",
    "                \"\"\")"
   ]
  },
  {
   "cell_type": "code",
   "execution_count": 9,
   "metadata": {},
   "outputs": [],
   "source": [
    "categorias = [\"PAIS_BLOCO\", \"PAIS\", \"UF\", \"NCM\"]\n",
    "\n",
    "import requests\n",
    "from io import StringIO\n",
    "\n",
    "for item_cat in categorias:\n",
    "    url = f\"https://balanca.economia.gov.br/balanca/bd/tabelas/{item_cat}.csv\"\n",
    "    response = requests.get(url)\n",
    "    csv_data = StringIO(response.text)\n",
    "    df = pd.read_csv(csv_data, sep=\";\", encoding=\"ISO-8859-1\")\n",
    "\n",
    "    con.execute(f\"\"\"\n",
    "            COPY (SELECT * FROM df )\n",
    "            TO '{path_land}/{item_cat}.parquet'\n",
    "            \"\"\")"
   ]
  },
  {
   "cell_type": "code",
   "execution_count": 17,
   "metadata": {},
   "outputs": [
    {
     "data": {
      "text/plain": [
       "┌────────┐\n",
       "│ CO_ANO │\n",
       "│ int64  │\n",
       "├────────┤\n",
       "│   2023 │\n",
       "│   2024 │\n",
       "└────────┘"
      ]
     },
     "execution_count": 17,
     "metadata": {},
     "output_type": "execute_result"
    }
   ],
   "source": [
    "con.sql(f\"\"\"\n",
    "        SELECT distinct CO_ANO FROM '{path_land}/EXP/*.parquet'\n",
    "        \n",
    "        \"\"\")"
   ]
  }
 ],
 "metadata": {
  "kernelspec": {
   "display_name": "Python 3",
   "language": "python",
   "name": "python3"
  },
  "language_info": {
   "codemirror_mode": {
    "name": "ipython",
    "version": 3
   },
   "file_extension": ".py",
   "mimetype": "text/x-python",
   "name": "python",
   "nbconvert_exporter": "python",
   "pygments_lexer": "ipython3",
   "version": "3.10.12"
  }
 },
 "nbformat": 4,
 "nbformat_minor": 2
}
