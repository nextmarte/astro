{
 "cells": [
  {
   "cell_type": "code",
   "execution_count": 1,
   "metadata": {},
   "outputs": [],
   "source": [
    "import duckdb\n",
    "import os\n",
    "from dotenv import load_dotenv, find_dotenv\n",
    "from deltalake import write_deltalake\n",
    "\n",
    "load_dotenv(find_dotenv())\n",
    "\n",
    "con = duckdb.connect()\n",
    "\n",
    "AWS_ACCESS_KEY_ID = os.getenv(\"AWS_ACCESS_KEY_MINIO\")\n",
    "AWS_SECRET_KEY_ID = os.getenv(\"AWS_SECRET_KEY_MINIO\")\n",
    "HOST_MINIO = os.getenv(\"HOST_MINIO\")\n",
    "PORT_MINIO = os.getenv(\"PORT_MINIO\")\n",
    "\n",
    "con.sql(f\"\"\" CREATE SECRET secret1 (\n",
    "            TYPE S3,\n",
    "            KEY_ID '{AWS_ACCESS_KEY_ID}',\n",
    "            SECRET '{AWS_SECRET_KEY_ID}',\n",
    "            REGION 'us-east-1',\n",
    "            ENDPOINT '{HOST_MINIO}:{PORT_MINIO}',\n",
    "            URL_STYLE 'path',\n",
    "            USE_SSL 'false'\n",
    "\n",
    "        );\n",
    "    \"\"\")\n",
    "\n",
    "storage_options = {\n",
    "    \"AWS_ACCESS_KEY_ID\": f\"{AWS_ACCESS_KEY_ID}\",\n",
    "    \"AWS_SECRET_ACCESS_KEY\": f\"{AWS_SECRET_KEY_ID}\",\n",
    "    \"AWS_ENDPOINT_URL\": f\"http://{HOST_MINIO}:{PORT_MINIO}\",\n",
    "    \"AWS_allow_http\": \"true\",\n",
    "    \"AWS_REGION\": \"us-east-1\",\n",
    "    \"AWS_S3_ALLOW_UNSAFE_RENAME\": \"true\",\n",
    "}"
   ]
  },
  {
   "cell_type": "code",
   "execution_count": 2,
   "metadata": {},
   "outputs": [],
   "source": [
    "path_bronze = \"s3://bronze/uff/projeto_comex\"\n",
    "path_silver = \"s3://silver/uff/projeto_comex\""
   ]
  },
  {
   "cell_type": "code",
   "execution_count": 3,
   "metadata": {},
   "outputs": [],
   "source": [
    "con.sql(\"INSTALL delta\")\n",
    "con.sql(\"LOAD delta\")"
   ]
  },
  {
   "cell_type": "code",
   "execution_count": 4,
   "metadata": {},
   "outputs": [],
   "source": [
    "df=con.sql(f\"\"\" \n",
    "            WITH importacoes AS (\n",
    "                select * from delta_scan('{path_bronze}/IMP')\n",
    "                ),\n",
    "                ncm as (\n",
    "                select * from delta_scan('{path_bronze}/NCM')   \n",
    "                ),\n",
    "                pais as (\n",
    "                select * from delta_scan('{path_bronze}/PAIS')\n",
    "                ),\n",
    "                pais_bloco as (\n",
    "                select * from delta_scan('{path_bronze}/PAIS_BLOCO')\n",
    "                ),\n",
    "                uf as (\n",
    "                select * from delta_scan('{path_bronze}/UF')\n",
    "                )\n",
    "               \n",
    "            SELECT\n",
    "            ncm.NOME_NCM as NOME_NCM,\n",
    "            pais.NOME_PAIS,\n",
    "            pb.NOME_BLOCO,\n",
    "            uf.NOME_ESTADO,\n",
    "            IMP.*\n",
    "            FROM importacoes IMP\n",
    "            LEFT JOIN ncm ON IMP.FK_NCM = ncm.CODIGO_NCM\n",
    "            LEFT JOIN pais ON IMP.FK_PAIS = pais.CODIGO_PAIS\n",
    "            LEFT JOIN pais_bloco pb ON pais.CODIGO_PAIS = pb.CODIGO_PAIS\n",
    "            LEFT JOIN uf ON IMP.FK_SIGA_ESTADO = uf.SIGLA_ESTADO            \n",
    "\n",
    "           \"\"\").to_arrow_table()"
   ]
  },
  {
   "cell_type": "code",
   "execution_count": 5,
   "metadata": {},
   "outputs": [],
   "source": [
    "write_deltalake(\n",
    "    f\"{path_silver}/IMP\",\n",
    "    df,\n",
    "    mode=\"append\",\n",
    "    storage_options=storage_options,\n",
    "    partition_by=[\"ANO\"],\n",
    ")"
   ]
  },
  {
   "cell_type": "code",
   "execution_count": 6,
   "metadata": {},
   "outputs": [],
   "source": [
    "max_ano = con.sql(\"SELECT MAX(ANO) FROM df\").to_df().squeeze()\n",
    "\n",
    "max_mes = con.sql(f\"SELECT MAX(MES) FROM df WHERE ANO = {max_ano}\").to_df().squeeze()"
   ]
  },
  {
   "cell_type": "code",
   "execution_count": 7,
   "metadata": {},
   "outputs": [],
   "source": [
    "df = con.sql(f\"\"\" \n",
    "            WITH importacoes AS (\n",
    "                select * from delta_scan('{path_bronze}/IMP')\n",
    "                ),\n",
    "                ncm as (\n",
    "                select * from delta_scan('{path_bronze}/NCM')   \n",
    "                ),\n",
    "                pais as (\n",
    "                select * from delta_scan('{path_bronze}/PAIS')\n",
    "                ),\n",
    "                pais_bloco as (\n",
    "                select * from delta_scan('{path_bronze}/PAIS_BLOCO')\n",
    "                ),\n",
    "                uf as (\n",
    "                select * from delta_scan('{path_bronze}/UF')\n",
    "                )\n",
    "               \n",
    "            SELECT\n",
    "            ncm.NOME_NCM as NOME_NCM,\n",
    "            pais.NOME_PAIS,\n",
    "            pb.NOME_BLOCO,\n",
    "            uf.NOME_ESTADO,\n",
    "            IMP.*\n",
    "            FROM importacoes IMP\n",
    "            LEFT JOIN ncm ON IMP.FK_NCM = ncm.CODIGO_NCM\n",
    "            LEFT JOIN pais ON IMP.FK_PAIS = pais.CODIGO_PAIS\n",
    "            LEFT JOIN pais_bloco pb ON pais.CODIGO_PAIS = pb.CODIGO_PAIS\n",
    "            LEFT JOIN uf ON IMP.FK_SIGA_ESTADO = uf.SIGLA_ESTADO     \n",
    "           \n",
    "            WHERE IMP.ANO > {max_ano} OR\n",
    "            (\n",
    "                IMP.ANO = {max_ano} AND MES > {max_mes}\n",
    "            )\n",
    "                \n",
    "\"\"\").to_arrow_table()"
   ]
  },
  {
   "cell_type": "code",
   "execution_count": 8,
   "metadata": {},
   "outputs": [],
   "source": [
    "if len(df) > 0:\n",
    "    write_deltalake(\n",
    "        f\"{path_silver}/IMP\",\n",
    "        df,\n",
    "        mode=\"append\",\n",
    "        storage_options=storage_options,\n",
    "        partition_by=[\"ANO\"],\n",
    "    )"
   ]
  },
  {
   "cell_type": "code",
   "execution_count": 9,
   "metadata": {},
   "outputs": [],
   "source": [
    "con.close()"
   ]
  }
 ],
 "metadata": {
  "kernelspec": {
   "display_name": "Python 3",
   "language": "python",
   "name": "python3"
  },
  "language_info": {
   "codemirror_mode": {
    "name": "ipython",
    "version": 3
   },
   "file_extension": ".py",
   "mimetype": "text/x-python",
   "name": "python",
   "nbconvert_exporter": "python",
   "pygments_lexer": "ipython3",
   "version": "3.10.12"
  }
 },
 "nbformat": 4,
 "nbformat_minor": 2
}
